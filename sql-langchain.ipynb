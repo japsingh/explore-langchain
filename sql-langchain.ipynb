{
 "cells": [
  {
   "cell_type": "code",
   "execution_count": 1,
   "id": "bba6e179",
   "metadata": {},
   "outputs": [
    {
     "name": "stderr",
     "output_type": "stream",
     "text": [
      "C:\\Users\\Japneet\\AppData\\Local\\Temp\\ipykernel_22832\\2997248023.py:14: RemovedIn20Warning: Deprecated API features detected! These feature(s) are not compatible with SQLAlchemy 2.0. To prevent incompatible upgrades prior to updating applications, ensure requirements files are pinned to \"sqlalchemy<2.0\". Set environment variable SQLALCHEMY_WARN_20=1 to show all deprecation warnings.  Set environment variable SQLALCHEMY_SILENCE_UBER_WARNING=1 to silence this message. (Background on SQLAlchemy 2.0 at: https://sqlalche.me/e/b8d9)\n",
      "  metadata_obj = MetaData(bind=engine)\n"
     ]
    }
   ],
   "source": [
    "from sqlalchemy import create_engine, MetaData, Table, Column, String, Integer, select, column\n",
    "\n",
    "#engine = create_engine(\"sqlite:///:memory:\")\n",
    "engine = create_engine(\n",
    "    'snowflake://{user}:@{account_identifier}/{database}/{schema_name}?authenticator={authenticator}&warehouse={warehouse}'.format(\n",
    "        user='japneet.singh@lacework.net',\n",
    "        account_identifier='LWDEV',\n",
    "        database='japneet_test_db',\n",
    "        schema_name='PUBLIC',\n",
    "        authenticator='externalbrowser',\n",
    "        warehouse='DEV_TEST',\n",
    "    )\n",
    ")\n",
    "metadata_obj = MetaData(bind=engine)"
   ]
  },
  {
   "cell_type": "code",
   "execution_count": 2,
   "id": "f4c21edb",
   "metadata": {},
   "outputs": [],
   "source": [
    "# create city SQL table\n",
    "#table_name = \"city_stats\"\n",
    "#city_stats_table = Table(\n",
    "#    table_name,\n",
    "#    metadata_obj,\n",
    "#    Column(\"city_name\", String(16), primary_key=True),\n",
    "#    Column(\"population\", Integer),\n",
    "#    Column(\"country\", String(16), nullable=False),\n",
    "#)\n",
    "#metadata_obj.create_all()"
   ]
  },
  {
   "cell_type": "code",
   "execution_count": 3,
   "id": "b8ab58de",
   "metadata": {},
   "outputs": [],
   "source": [
    "#from sqlalchemy import insert\n",
    "#rows = [\n",
    "#    {\"city_name\": \"Toronto\", \"population\": 2731571, \"country\": \"Canada\"},\n",
    "#    {\"city_name\": \"Tokyo\", \"population\": 13929286, \"country\": \"Japan\"},\n",
    "#    {\"city_name\": \"Berlin\", \"population\": 600000, \"country\": \"United States\"},\n",
    "#]\n",
    "#for row in rows:\n",
    "#    stmt = insert(city_stats_table).values(**row)\n",
    "#    with engine.connect() as connection:\n",
    "#        cursor = connection.execute(stmt)"
   ]
  },
  {
   "cell_type": "code",
   "execution_count": 4,
   "id": "277cad34",
   "metadata": {},
   "outputs": [],
   "source": [
    "#from llama_index import SQLDatabase\n",
    "\n",
    "#sql_database = SQLDatabase(engine, include_tables=[\"city_stats\"])\n"
   ]
  },
  {
   "cell_type": "code",
   "execution_count": 5,
   "id": "4c87a404",
   "metadata": {},
   "outputs": [],
   "source": [
    "#from llama_index import GPTSQLStructStoreIndex, SQLDatabase\n",
    "#index = GPTSQLStructStoreIndex(\n",
    "#    [],\n",
    "#    sql_database=sql_database, \n",
    "#    table_name=\"city_stats\",\n",
    "#)\n"
   ]
  },
  {
   "cell_type": "code",
   "execution_count": 6,
   "id": "68c40296",
   "metadata": {},
   "outputs": [],
   "source": [
    "#from llama_index import download_loader\n",
    "\n",
    "#WikipediaReader = download_loader(\"WikipediaReader\")\n",
    "#wiki_docs = WikipediaReader().load_data(pages=['Toronto', 'Berlin', 'Tokyo'])\n"
   ]
  },
  {
   "cell_type": "code",
   "execution_count": 7,
   "id": "3ac672e8",
   "metadata": {},
   "outputs": [],
   "source": [
    "import os\n",
    "os.environ[\"OPENAI_API_KEY\"] = \"\""
   ]
  },
  {
   "cell_type": "code",
   "execution_count": 9,
   "id": "f499a7b7",
   "metadata": {},
   "outputs": [],
   "source": [
    "#from llama_index import GPTSQLStructStoreIndex, SQLDatabase\n",
    "\n",
    "#sql_database = SQLDatabase(engine, include_tables=[\"city_stats\"])\n",
    "# NOTE: the table_name specified here is the table that you\n",
    "# want to extract into from unstructured documents.\n",
    "#index = GPTSQLStructStoreIndex(\n",
    "#    wiki_docs, \n",
    "#    sql_database=sql_database, \n",
    "#    table_name=\"city_stats\",\n",
    "#)"
   ]
  },
  {
   "cell_type": "code",
   "execution_count": 10,
   "id": "1d0a5b3d",
   "metadata": {},
   "outputs": [
    {
     "name": "stderr",
     "output_type": "stream",
     "text": [
      "C:\\Users\\Japneet\\anaconda3\\envs\\langchain\\lib\\site-packages\\tqdm\\auto.py:22: TqdmWarning: IProgress not found. Please update jupyter and ipywidgets. See https://ipywidgets.readthedocs.io/en/stable/user_install.html\n",
      "  from .autonotebook import tqdm as notebook_tqdm\n",
      "INFO:root:> [build_index_from_documents] Total LLM token usage: 0 tokens\n",
      "INFO:root:> [build_index_from_documents] Total embedding token usage: 0 tokens\n",
      "INFO:snowflake.connector.cursor:query: [select current_database(), current_schema();]\n",
      "INFO:snowflake.connector.cursor:query execution done\n",
      "INFO:snowflake.connector.cursor:Number of results in first chunk: 1\n",
      "INFO:snowflake.connector.cursor:query: [SHOW /* sqlalchemy:_get_schema_primary_keys */PRIMARY KEYS IN SCHEMA japneet_tes...]\n",
      "INFO:snowflake.connector.cursor:query execution done\n",
      "INFO:snowflake.connector.cursor:Number of results in first chunk: 1\n",
      "INFO:snowflake.connector.cursor:query: [SELECT /* sqlalchemy:_get_schema_columns */ ic.table_name, ic.column_name, ic.da...]\n",
      "INFO:snowflake.connector.cursor:query execution done\n",
      "INFO:snowflake.connector.cursor:Number of results in first chunk: 16\n",
      "INFO:snowflake.connector.cursor:query: [ROLLBACK]\n",
      "INFO:snowflake.connector.cursor:query execution done\n",
      "INFO:snowflake.connector.cursor:Number of results in first chunk: 1\n"
     ]
    }
   ],
   "source": [
    "index = GPTSQLStructStoreIndex(\n",
    "    [],\n",
    "    sql_database=sql_database, \n",
    "    table_name=\"city_stats\",\n",
    ")"
   ]
  },
  {
   "cell_type": "code",
   "execution_count": 11,
   "id": "393ded61",
   "metadata": {},
   "outputs": [
    {
     "name": "stderr",
     "output_type": "stream",
     "text": [
      "INFO:root:> Table desc str: Schema of table city_stats:\n",
      "Table 'city_stats' has columns: city_name (VARCHAR(16)), population (DECIMAL(38, 0)), country (VARCHAR(16)).\n",
      "\n",
      "INFO:snowflake.connector.cursor:query: [SELECT city_name, population FROM city_stats ORDER BY population DESC LIMIT 1;]\n",
      "INFO:snowflake.connector.cursor:query execution done\n",
      "INFO:snowflake.connector.cursor:Number of results in first chunk: 1\n",
      "INFO:snowflake.connector.cursor:query: [ROLLBACK]\n",
      "INFO:snowflake.connector.cursor:query execution done\n",
      "INFO:snowflake.connector.cursor:Number of results in first chunk: 1\n",
      "INFO:root:> [query] Total LLM token usage: 166 tokens\n",
      "INFO:root:> [query] Total embedding token usage: 0 tokens\n"
     ]
    },
    {
     "name": "stdout",
     "output_type": "stream",
     "text": [
      "[('Tokyo', 13929286)]\n"
     ]
    }
   ],
   "source": [
    "# set Logging to DEBUG for more detailed outputs\n",
    "response = index.query(\"Which city has the highest population? Also show the population.\", mode=\"default\")\n",
    "print(response)"
   ]
  },
  {
   "cell_type": "code",
   "execution_count": 12,
   "id": "6f383885",
   "metadata": {},
   "outputs": [
    {
     "data": {
      "text/plain": [
       "'SELECT city_name, population \\nFROM city_stats \\nORDER BY population DESC \\nLIMIT 1;'"
      ]
     },
     "execution_count": 12,
     "metadata": {},
     "output_type": "execute_result"
    }
   ],
   "source": [
    "response.extra_info['sql_query']"
   ]
  },
  {
   "cell_type": "code",
   "execution_count": 18,
   "id": "eaa0ec68",
   "metadata": {},
   "outputs": [
    {
     "name": "stderr",
     "output_type": "stream",
     "text": [
      "INFO:root:> Table desc str: Schema of table city_stats:\n",
      "Table 'city_stats' has columns: city_name (VARCHAR(16)), population (INTEGER), country (VARCHAR(16)).\n",
      "\n",
      "INFO:root:> [query] Total LLM token usage: 158 tokens\n",
      "INFO:root:> [query] Total embedding token usage: 0 tokens\n"
     ]
    },
    {
     "name": "stdout",
     "output_type": "stream",
     "text": [
      "[('Japan',)]\n"
     ]
    }
   ],
   "source": [
    "# set Logging to DEBUG for more detailed outputs\n",
    "response = index.query(\"What is the country of the city has the highest population?\", mode=\"default\")\n",
    "print(response)"
   ]
  },
  {
   "cell_type": "code",
   "execution_count": 19,
   "id": "7963c913",
   "metadata": {},
   "outputs": [
    {
     "data": {
      "text/plain": [
       "'SELECT country \\nFROM city_stats \\nORDER BY population DESC \\nLIMIT 1;'"
      ]
     },
     "execution_count": 19,
     "metadata": {},
     "output_type": "execute_result"
    }
   ],
   "source": [
    "response.extra_info['sql_query']"
   ]
  },
  {
   "cell_type": "code",
   "execution_count": 13,
   "id": "ff55e1e4",
   "metadata": {},
   "outputs": [],
   "source": [
    "# manually set text\n",
    "#city_stats_text = (\n",
    "#    \"This table gives information regarding the population and country of a given city.\\n\"\n",
    "#    \"The user will query with codewords, where 'foo' corresponds to population and 'bar'\"\n",
    "#    \"corresponds to city.\"\n",
    "#)\n",
    "#table_context_dict={\"city_stats\": city_stats_text}\n",
    "#context_builder = SQLContextContainerBuilder(sql_database, context_dict=table_context_dict)\n",
    "#context_container = context_builder.build_context_container()\n",
    "\n",
    "# building the index\n",
    "#index = GPTSQLStructStoreIndex(\n",
    "#    wiki_docs, \n",
    "#    sql_database=sql_database, \n",
    "#    table_name=\"city_stats\",\n",
    "#    sql_context_container=context_container\n",
    "#)"
   ]
  },
  {
   "cell_type": "code",
   "execution_count": 26,
   "id": "24545bb8",
   "metadata": {},
   "outputs": [
    {
     "name": "stderr",
     "output_type": "stream",
     "text": [
      "INFO:root:> [build_index_from_documents] Total LLM token usage: 0 tokens\n",
      "INFO:root:> [build_index_from_documents] Total embedding token usage: 52 tokens\n",
      "INFO:root:> [query] Total LLM token usage: 135 tokens\n",
      "INFO:root:> [query] Total embedding token usage: 23 tokens\n",
      "INFO:root:> Table desc str: \n",
      "Table 'city_stats':\n",
      "city_name (VARCHAR(16)), population (INTEGER), country (VARCHAR(16))\n",
      "INFO:root:> [query] Total LLM token usage: 134 tokens\n",
      "INFO:root:> [query] Total embedding token usage: 0 tokens\n"
     ]
    },
    {
     "name": "stdout",
     "output_type": "stream",
     "text": [
      "[('Tokyo',)]\n"
     ]
    }
   ],
   "source": [
    "from llama_index import GPTSQLStructStoreIndex, SQLDatabase, GPTSimpleVectorIndex\n",
    "from llama_index.indices.struct_store import SQLContextContainerBuilder\n",
    "\n",
    "sql_database = SQLDatabase(engine)\n",
    "# build a vector index from the table schema information\n",
    "context_builder = SQLContextContainerBuilder(sql_database)\n",
    "table_schema_index = context_builder.derive_index_from_context(\n",
    "    GPTSimpleVectorIndex\n",
    ")\n",
    "\n",
    "query_str = \"Which city has the highest population?\"\n",
    "\n",
    "# query the table schema index using the helper method\n",
    "# to retrieve table context\n",
    "context_builder.query_index_for_context(\n",
    "    index=table_schema_index,\n",
    "    query_str=query_str,\n",
    "    store_context_str=True\n",
    ")\n",
    "context_container = context_builder.build_context_container()\n",
    "\n",
    "# query the SQL index with the table context\n",
    "response = index.query(query_str, sql_context_container=context_container)\n",
    "print(response)"
   ]
  },
  {
   "cell_type": "code",
   "execution_count": null,
   "id": "5325d7f7",
   "metadata": {},
   "outputs": [],
   "source": []
  },
  {
   "cell_type": "code",
   "execution_count": null,
   "id": "88820605",
   "metadata": {},
   "outputs": [],
   "source": []
  }
 ],
 "metadata": {
  "kernelspec": {
   "display_name": "Python 3",
   "language": "python",
   "name": "python3"
  },
  "language_info": {
   "codemirror_mode": {
    "name": "ipython",
    "version": 3
   },
   "file_extension": ".py",
   "mimetype": "text/x-python",
   "name": "python",
   "nbconvert_exporter": "python",
   "pygments_lexer": "ipython3",
   "version": "3.11.1"
  }
 },
 "nbformat": 4,
 "nbformat_minor": 5
}
